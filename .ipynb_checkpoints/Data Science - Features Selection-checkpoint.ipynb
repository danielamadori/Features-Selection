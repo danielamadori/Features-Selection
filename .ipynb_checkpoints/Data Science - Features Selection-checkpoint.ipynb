{
 "cells": [
  {
   "cell_type": "code",
   "execution_count": null,
   "id": "b7aa3da5-85db-469f-8ddf-7a6195e6571d",
   "metadata": {
    "is_executing": true,
    "ExecuteTime": {
     "start_time": "2023-10-25T09:10:23.572773200Z"
    }
   },
   "outputs": [],
   "source": [
    "import numpy as np\n",
    "from ucimlrepo import fetch_ucirepo\n",
    "from printScore import *\n",
    "\n",
    "# fetch dataset \n",
    "breast_cancer_wisconsin_diagnostic = fetch_ucirepo(id=17)\n",
    "\n",
    "# data (as pandas dataframes) \n",
    "X = breast_cancer_wisconsin_diagnostic.data.features\n",
    "y = breast_cancer_wisconsin_diagnostic.data.targets\n",
    "\n",
    "# Create a Pandas DataFrame with the features and the target\n",
    "df = X.copy()\n",
    "df['target'] = y.copy()\n",
    "\n",
    "df.info()"
   ]
  },
  {
   "cell_type": "code",
   "execution_count": null,
   "outputs": [],
   "source": [
    "#Print all the different values of the target\n",
    "print(df['target'].unique())\n",
    "# Replace the target values with the corresponding numeric values: 'B'(benign)= 0, 'M'(malignant)= 1\n",
    "df['target'].replace({'B': 0, 'M': 1}, inplace=True)"
   ],
   "metadata": {
    "collapsed": false,
    "is_executing": true
   },
   "id": "d7cba7bb4b4a1bf0"
  },
  {
   "cell_type": "markdown",
   "source": [
    "# Evaluation Function that implements Correlation Feature Selection\n",
    "## Correlation Feature Selection (CFS) is a filter-based method that evaluates the worth of a subset of features by considering the individual predictive ability of each feature along with the degree of redundancy between them.\n",
    "\n",
    "# Insert image CSF_formula.png\n"
   ],
   "metadata": {
    "collapsed": false
   },
   "id": "2c63699554e504ad"
  },
  {
   "cell_type": "code",
   "execution_count": null,
   "outputs": [],
   "source": [
    "# Merit function: Correlation Feature Selection (CFS)\n",
    "def cfs(df, selectedFeatures, target):\n",
    "\t# compute the correlation matrix with the selected features and the target\n",
    "\tcorr_matrix = df[selectedFeatures + [target]].corr()\n",
    "\t# compute the correlation between the target and the selected features\n",
    "\tcorr_target = corr_matrix[target].values[:-1]\n",
    "\t# compute the correlation between the features\n",
    "\tcorr_features = corr_matrix[selectedFeatures].values\n",
    "\t# compute the score of each feature\n",
    "\tscore = np.zeros(len(selectedFeatures))\n",
    "\tfor i in range(len(selectedFeatures)):\n",
    "\t\tscore[i] = np.sum(corr_target * corr_features[i]) / np.sqrt(np.sum(corr_target * corr_target) * np.sum(corr_features[i] * corr_features[i]))\n",
    "\t\n",
    "\t# return the mean of the scores\n",
    "\treturn np.sum(score) / len(selectedFeatures)"
   ],
   "metadata": {
    "collapsed": false,
    "is_executing": true
   },
   "id": "c8d7b6eeec89d444"
  },
  {
   "cell_type": "code",
   "execution_count": null,
   "outputs": [],
   "source": [
    "from sklearn.feature_selection import mutual_info_classif\n",
    "# Merit function: Mutual Information Feature Selection (MIFS)\n",
    "def mifs(df, selectedFeatures, testFeature, target, random_state=0):\n",
    "\t# compute the mutual information between the target and the selectedFeatures and the testFeature\n",
    "\tmi = mutual_info_classif(df[selectedFeatures + [testFeature]], df[target], random_state=random_state)\n",
    "\t# compute the mutual information between the selectedFeatures and the testFeature\n",
    "\tmi_selectedFeatures = mutual_info_classif(df[selectedFeatures], df[testFeature], random_state=random_state)\n",
    "\t# return the score of the testFeature\n",
    "\treturn np.sum(mi) - np.sum(mi_selectedFeatures)"
   ],
   "metadata": {
    "collapsed": false,
    "is_executing": true
   },
   "id": "7ad7eb439be54f10"
  },
  {
   "cell_type": "code",
   "execution_count": null,
   "outputs": [],
   "source": [
    "# Implementation of the SFS algorithm\n",
    "# This algorithm add the best feature at to the selected features at each iteration\n",
    "def selection_sfs(df, selected_features, remaining_features, target, measures, maxFeatures=np.inf):\n",
    "\tif not set(measures).issubset(['variance', 'correlation', 'cfs', 'mifs']): # check if the measures are valid\n",
    "\t\traise ValueError('Invalid measures function')\n",
    "\t\n",
    "\t# initialize the scores list\n",
    "\tscore = []\n",
    "\tcounter = 0\n",
    "\twhile counter < maxFeatures and len(remaining_features) > 0:\n",
    "\t\t# initialize the best score and feature\n",
    "\t\tbest_score = -np.inf\n",
    "\t\tbest_feature = None\n",
    "\t\t\n",
    "\t\t# iterate over the features \n",
    "\t\tfor feature in remaining_features:\n",
    "\t\t\t# compute the score of the feature\n",
    "\t\t\tfeature_score = 0\n",
    "\t\t\t# Select the features already selected and the current feature\n",
    "\t\t\ttestFeatures = selected_features + [feature]\n",
    "\t\t\t\n",
    "\t\t\tif 'variance' in measures: \n",
    "\t\t\t\tfeature_score += df[feature].var() \t\t\t\t\n",
    "\t\t\tif 'correlation' in measures:\n",
    "\t\t\t\tfeature_score += np.abs(df[feature].corr(df[target]))\n",
    "\t\t\tif 'cfs' in measures:\n",
    "\t\t\t\tfeature_score += cfs(df, testFeatures, target)\n",
    "\t\t\tif 'mifs' in measures:\n",
    "\t\t\t\tfeature_score += mifs(df, testFeatures, target)\n",
    "\t\t\t\t\n",
    "\t\t\t# check if the score is better than the best score\n",
    "\t\t\tif feature_score > best_score:\n",
    "\t\t\t\tbest_score = feature_score\n",
    "\t\t\t\tbest_feature = feature\n",
    "\t\t# add the best feature to the selected features list\n",
    "\t\tselected_features.append(best_feature)\n",
    "\t\t# remove the best feature from the remaining features list\n",
    "\t\tremaining_features.remove(best_feature)\n",
    "\t\t# add the best score to the scores list\n",
    "\t\tscore.append(best_score)\n",
    "\t\tcounter += 1\n",
    "\n",
    "\treturn selected_features, score, remaining_features"
   ],
   "metadata": {
    "collapsed": false,
    "is_executing": true
   },
   "id": "7b77cc68459f6575"
  },
  {
   "cell_type": "code",
   "execution_count": null,
   "outputs": [],
   "source": [
    "# Implementation of the SBS algorithm\n",
    "# This algorithm is the same as the SFS algorithm but it removes the worst feature at each iteration\n",
    "def selection_sbs(df, remaining_features, target, measures, maxFeatures=np.inf):\n",
    "\tif not set(measures).issubset(['variance', 'correlation', 'cfs', 'mifs']): # check if the measures are valid\n",
    "\t\traise ValueError('Invalid measures function')\n",
    "\n",
    "\t# initialize the scores list\n",
    "\tscore = []\n",
    "\t# iterate over the features\n",
    "\teliminated_features = []\n",
    "\tremaining_features = remaining_features.copy()\n",
    "\twhile len(eliminated_features) < maxFeatures and len(remaining_features) > 1:\n",
    "\t\t# initialize the worst score and feature\n",
    "\t\tworst_score = np.inf\n",
    "\t\tworst_feature = None\n",
    "\t\t\n",
    "\t\t# iterate over the features \n",
    "\t\tfor feature in remaining_features:\n",
    "\t\t\t# compute the score of the feature\n",
    "\t\t\tfeature_score = 0\n",
    "\t\t\t# Select all the features except the current feature\n",
    "\t\t\ttestFeatures = remaining_features.copy()\n",
    "\t\t\ttestFeatures.remove(feature)\n",
    "\t\t\t\n",
    "\t\t\tif 'variance' in measures: \n",
    "\t\t\t\tfeature_score += df[feature].var()\n",
    "\t\t\tif 'correlation' in measures:\n",
    "\t\t\t\tfeature_score += np.abs(df[feature].corr(df[target]))\n",
    "\t\t\tif 'cfs' in measures:\n",
    "\t\t\t\tfeature_score += cfs(df, testFeatures, target)\n",
    "\t\t\tif 'mifs' in measures:\n",
    "\t\t\t\tfeature_score += mifs(df, testFeatures, target)\n",
    "\t\t\t\t\n",
    "\t\t\t# check if the score is worst\n",
    "\t\t\tif feature_score < worst_score:\n",
    "\t\t\t\tworst_score = feature_score\n",
    "\t\t\t\tworst_feature = feature\n",
    "\t\t\t\t\n",
    "\t\t# remove the worst feature from the remaining features list\n",
    "\t\tremaining_features.remove(worst_feature)\n",
    "\t\t# add the best score to the scores list\n",
    "\t\tscore.append(worst_score)\n",
    "\t\t# add the worst feature to the eliminated features list\n",
    "\t\teliminated_features.append(worst_feature)\n",
    "\t\n",
    "\treturn remaining_features, score, eliminated_features"
   ],
   "metadata": {
    "collapsed": false,
    "is_executing": true
   },
   "id": "ab200f827a14a207"
  },
  {
   "cell_type": "code",
   "execution_count": null,
   "outputs": [],
   "source": [
    "selected_features = []\n",
    "remaining_features = df.columns[:-1].tolist() # Initialize the remaining features list without the target\n",
    "target = df.columns[-1] # Get target name\n",
    "\n",
    "selected_features, score, remaining_features = selection_sfs(df, selected_features, remaining_features, target, measures=['variance', 'correlation', 'cfs'], maxFeatures= 2)\n",
    "remaining_features, worst_score, eliminated_features = selection_sbs(df, remaining_features, target, measures=['variance', 'correlation', 'cfs'], maxFeatures= 3)\n",
    "\n",
    "printFinalScore(selected_features, score, remaining_features, worst_score, eliminated_features)"
   ],
   "metadata": {
    "collapsed": false,
    "is_executing": true
   },
   "id": "7cfad075f19f7867"
  },
  {
   "cell_type": "code",
   "execution_count": null,
   "outputs": [],
   "source": [
    "# Implementation of the BDS algorithm using the SFS and SBS function\n",
    "def selection_bds(df, selected_features, remaining_features, target, measures, maxFeatures=1):\n",
    "\tselected_features_score = []\n",
    "\teliminated_features_worst_score = []\n",
    "\teliminated_features = []\n",
    "\n",
    "\tmaxFeaturesOverLoad = False\n",
    "\twhile(len(selected_features) < maxFeatures and len(remaining_features) > 0):\n",
    "\t\tselected_features, selected_feature_score, remaining_features = selection_sfs(df, selected_features, remaining_features, target, measures, maxFeatures= 1)\n",
    "\t\tremaining_features, eliminated_feature_worst_score, eliminated_feature = selection_sbs(df, remaining_features, target, measures, maxFeatures= 1)\n",
    "\n",
    "\t\tselected_features_score.extend(selected_feature_score)\n",
    "\t\tmaxFeaturesOverLoad = eliminated_feature == []#It appends when |remaining_features| = 2\n",
    "\t\tif not maxFeaturesOverLoad:\n",
    "\t\t\teliminated_features_worst_score.extend(eliminated_feature_worst_score)\n",
    "\t\t\teliminated_features.extend(eliminated_feature)\n",
    "\n",
    "\t\tprintFinalScore(selected_features, selected_features_score, remaining_features, eliminated_features_worst_score, eliminated_features)\n",
    "\n",
    "\tif maxFeaturesOverLoad:\n",
    "\t\tprint(\"Max features reached!\")\n",
    "\t\t\n",
    "\treturn selected_features, selected_features_score, remaining_features, eliminated_features_worst_score, eliminated_features\n",
    "\n",
    "# Initialize the selected features list\n",
    "selected_features = []\n",
    "# Initialize the remaining features list without the target\n",
    "remaining_features = df.columns[:-1].tolist()\n",
    "# Get target name\n",
    "target = df.columns[-1]\n",
    "# Call the BDS function\n",
    "selected_features, selected_features_score, remaining_features, eliminated_features_worst_score, eliminated_features = selection_bds(df, selected_features, remaining_features, target, measures=['variance', 'correlation', 'cfs'], maxFeatures= 100)"
   ],
   "metadata": {
    "collapsed": false,
    "is_executing": true
   },
   "id": "ed51765a25b1d2b7"
  },
  {
   "cell_type": "code",
   "execution_count": null,
   "outputs": [],
   "source": [
    "# Implementation of the LRS algorithm using the SFS and SBS function\n",
    "def selection_lrs(df, selected_features, remaining_features, target, measures, l=1, r=1, maxFeatures=1):\n",
    "\tselected_features_score = []\n",
    "\teliminated_features_worst_score = []\n",
    "\teliminated_features = []\n",
    "\n",
    "\tmaxFeaturesOverLoad = False\n",
    "\twhile(len(selected_features) < maxFeatures and len(remaining_features) > 0):\n",
    "\t\tselected_features, selected_feature_score, remaining_features = selection_sfs(df, selected_features, remaining_features, target, measures, maxFeatures= l)\n",
    "\t\tremaining_features, eliminated_feature_worst_score, eliminated_feature = selection_sbs(df, remaining_features, target, measures, maxFeatures= r)\n",
    "\n",
    "\t\tselected_features_score.extend(selected_feature_score)\n",
    "\t\tmaxFeaturesOverLoad = eliminated_feature == []#It appends when |remaining_features| = 2\n",
    "\t\tif not maxFeaturesOverLoad:\n",
    "\t\t\teliminated_features_worst_score.extend(eliminated_feature_worst_score)\n",
    "\t\t\teliminated_features.extend(eliminated_feature)\n",
    "\n",
    "\t\tprintFinalScore(selected_features, selected_features_score, remaining_features, eliminated_features_worst_score, eliminated_features)\n",
    "\n",
    "\tif maxFeaturesOverLoad:\n",
    "\t\tprint(\"Max features reached!\")\n",
    "\t\t\n",
    "\treturn selected_features, selected_features_score, remaining_features, eliminated_features_worst_score, eliminated_features\n",
    "\n",
    "selected_features = []\n",
    "remaining_features = df.columns[:-1].tolist() # Initialize the remaining features list without the target\n",
    "target = df.columns[-1] # Get target name\n",
    "# Call the BDS function\n",
    "selected_features, selected_features_score, remaining_features, eliminated_features_worst_score, eliminated_features = selection_lrs(df, selected_features, remaining_features, target, measures=['variance', 'correlation', 'cfs'], maxFeatures= 100)"
   ],
   "metadata": {
    "collapsed": false,
    "is_executing": true
   },
   "id": "70bf25255ebfbb09"
  },
  {
   "cell_type": "code",
   "execution_count": null,
   "outputs": [],
   "source": [
    "# Implementation of the SFFS algorithm using the SFS and SBS function\n",
    "def selection_sffs(df, selected_features, remaining_features, target, measures, maxFeatures=1):\n",
    "\tselected_features_score = []\n",
    "\teliminated_features_worst_score = []\n",
    "\teliminated_features = []\n",
    "\n",
    "\tmaxFeaturesOverLoad = False\n",
    "\twhile(len(selected_features) < maxFeatures and len(remaining_features) > 0):\n",
    "\t\tselected_features, selected_feature_score, remaining_features = selection_sfs(df, selected_features, remaining_features, target, measures, maxFeatures= 1)\n",
    "\t\tremaining_features, eliminated_feature_worst_score, eliminated_feature = selection_sbs(df, remaining_features, target, measures, maxFeatures= 1)\n",
    "\n",
    "\t\tselected_features_score.extend(selected_feature_score)\n",
    "\t\tmaxFeaturesOverLoad = eliminated_feature == [] #It appends when |remaining_features| = 2\n",
    "\t\tif not maxFeaturesOverLoad:\n",
    "\t\t\teliminated_features_worst_score.extend(eliminated_feature_worst_score)\n",
    "\t\t\teliminated_features.extend(eliminated_feature)\n",
    "\t\t\t\n",
    "\t\t\t# check if the score of the selected features is better than the score of the eliminated features\n",
    "\t\t\tif selected_feature_score[-1] < eliminated_feature_worst_score[-1]:\n",
    "\t\t\t\t# remove the worst feature from the selected features list\n",
    "\t\t\t\tselected_features.remove(eliminated_feature[-1])\n",
    "\t\t\t\t# add the worst feature to the remaining features list\n",
    "\t\t\t\tremaining_features.append(eliminated_feature[-1])\n",
    "\t\t\t\t# remove the worst feature from the eliminated features list\n",
    "\t\t\t\teliminated_features[-1].remove(eliminated_feature[-1])\n",
    "\t\t\t\t# remove the worst score from the selected features score list\n",
    "\t\t\t\tselected_features_score[-1].remove(eliminated_feature_worst_score[-1][-1])\n",
    "\t\t\t\t# remove the worst score from the eliminated features worst score list\n",
    "\t\t\t\teliminated_features_worst_score[-1].remove(eliminated_feature_worst_score[-1][-1])\n",
    "\t\t\t\tprint(\"Feature removed!\")\t\t\t\n",
    "\n",
    "\t\tprintFinalScore(selected_features, selected_features_score, remaining_features, eliminated_features_worst_score, eliminated_features)\n",
    "\t\t\n",
    "\treturn selected_features, selected_features_score, remaining_features, eliminated_features_worst_score, eliminated_features\n",
    "\n",
    "selected_features = []\n",
    "remaining_features = df.columns[:-1].tolist() # Initialize the remaining features list without the target\n",
    "target = df.columns[-1] # Get target name\n",
    "# Call the BDS function\n",
    "selected_features, selected_features_score, remaining_features, eliminated_features_worst_score, eliminated_features = selection_sffs(df, selected_features, remaining_features, target, measures=['variance', 'correlation', 'cfs'], maxFeatures= 100)"
   ],
   "metadata": {
    "collapsed": false,
    "is_executing": true
   },
   "id": "b88f1fc138421813"
  },
  {
   "cell_type": "code",
   "execution_count": null,
   "outputs": [],
   "source": [],
   "metadata": {
    "collapsed": false,
    "is_executing": true
   },
   "id": "9fe7e8cb819ecb6e"
  }
 ],
 "metadata": {
  "kernelspec": {
   "display_name": "Python 3 (ipykernel)",
   "language": "python",
   "name": "python3"
  },
  "language_info": {
   "codemirror_mode": {
    "name": "ipython",
    "version": 3
   },
   "file_extension": ".py",
   "mimetype": "text/x-python",
   "name": "python",
   "nbconvert_exporter": "python",
   "pygments_lexer": "ipython3",
   "version": "3.9.12"
  }
 },
 "nbformat": 4,
 "nbformat_minor": 5
}
